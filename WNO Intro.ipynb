{
 "cells": [
  {
   "cell_type": "markdown",
   "metadata": {},
   "source": [
    "# Introductory Lab Assignment\n",
    "\n",
    "Name: Folkert Stijnman 10475206\n",
    "\n",
    "E-mail: folkertstijnman@gmail.com\n",
    "\n",
    "In this first exercise we want you to find, download, read in, analyze and plot data from a data\n",
    "base concerning infectious diseases. The goal of this exercise is for you to get comfortable with\n",
    "finding and analyzing real data with python. A good suggestion where to get data is from the\n",
    "world health organization (WHO) http://apps.who.int/gho/data/node.home . An example for this\n",
    "exercise is to compare the number of reported measles cases in a specific country over a few\n",
    "decades. Most data from the WHO can be downloaded as a csv file.\n",
    "\n",
    "This exercise is up to you to find the data and analyze it. The final result should be a nice\n",
    "looking plot and hopefully an interesting story!\n",
    "Helpful Python Packages:\n",
    "Some csv module to read in the data. Examples are csv, numpy, pandas. NOTE: There\n",
    "is no “CSV standard” so the format of the data can vary from dataset to dataset"
   ]
  },
  {
   "cell_type": "code",
   "execution_count": null,
   "metadata": {},
   "outputs": [],
   "source": []
  }
 ],
 "metadata": {
  "kernelspec": {
   "display_name": "Python 3",
   "language": "python",
   "name": "python3"
  },
  "language_info": {
   "codemirror_mode": {
    "name": "ipython",
    "version": 3
   },
   "file_extension": ".py",
   "mimetype": "text/x-python",
   "name": "python",
   "nbconvert_exporter": "python",
   "pygments_lexer": "ipython3",
   "version": "3.7.3"
  }
 },
 "nbformat": 4,
 "nbformat_minor": 2
}
